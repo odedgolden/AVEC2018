{
  "nbformat": 4,
  "nbformat_minor": 0,
  "metadata": {
    "colab": {
      "name": "Quora-Insincere-Questions-Classification.ipynb",
      "version": "0.3.2",
      "provenance": [],
      "machine_shape": "hm",
      "include_colab_link": true
    },
    "kernelspec": {
      "name": "python3",
      "display_name": "Python 3"
    },
    "accelerator": "GPU"
  },
  "cells": [
    {
      "cell_type": "markdown",
      "metadata": {
        "id": "view-in-github",
        "colab_type": "text"
      },
      "source": [
        "<a href=\"https://colab.research.google.com/github/odedgolden/AVEC2018/blob/master/Quora_Insincere_Questions_Classification.ipynb\" target=\"_parent\"><img src=\"https://colab.research.google.com/assets/colab-badge.svg\" alt=\"Open In Colab\"/></a>"
      ]
    },
    {
      "cell_type": "code",
      "metadata": {
        "id": "GUVIu7Szs34K",
        "colab_type": "code",
        "colab": {}
      },
      "source": [
        "is_first_time = False"
      ],
      "execution_count": 0,
      "outputs": []
    },
    {
      "cell_type": "markdown",
      "metadata": {
        "id": "F3vPe-_j1ugy",
        "colab_type": "text"
      },
      "source": [
        "##Kaggle Integration"
      ]
    },
    {
      "cell_type": "code",
      "metadata": {
        "id": "fRJKSBfMlYwd",
        "colab_type": "code",
        "colab": {}
      },
      "source": [
        "if is_first_time:\n",
        "  from google.colab import files\n",
        "  files.upload()"
      ],
      "execution_count": 0,
      "outputs": []
    },
    {
      "cell_type": "code",
      "metadata": {
        "id": "nedILXEXouD4",
        "colab_type": "code",
        "colab": {}
      },
      "source": [
        "if is_first_time:\n",
        "  !ls -lha kaggle.json"
      ],
      "execution_count": 0,
      "outputs": []
    },
    {
      "cell_type": "code",
      "metadata": {
        "id": "xtkAZZg1ktQx",
        "colab_type": "code",
        "colab": {}
      },
      "source": [
        "if is_first_time:\n",
        "  !pip install -q kaggle"
      ],
      "execution_count": 0,
      "outputs": []
    },
    {
      "cell_type": "code",
      "metadata": {
        "id": "ro3R3Ekhl828",
        "colab_type": "code",
        "colab": {}
      },
      "source": [
        "if is_first_time:\n",
        "  !mkdir -p ~/.kaggle\n",
        "  !cp kaggle.json ~/.kaggle/\n",
        "  !chmod 600 /root/.kaggle/kaggle.json"
      ],
      "execution_count": 0,
      "outputs": []
    },
    {
      "cell_type": "code",
      "metadata": {
        "id": "Q7acoN3VlBe7",
        "colab_type": "code",
        "colab": {}
      },
      "source": [
        "if is_first_time:\n",
        "  !kaggle competitions download -c quora-insincere-questions-classification -p /content/drive/My\\ Drive/Colab\\ Notebooks/Research/Quora"
      ],
      "execution_count": 0,
      "outputs": []
    },
    {
      "cell_type": "markdown",
      "metadata": {
        "id": "qm47_7qC13wR",
        "colab_type": "text"
      },
      "source": [
        "##Imports"
      ]
    },
    {
      "cell_type": "code",
      "metadata": {
        "id": "dtBt19CfsKHP",
        "colab_type": "code",
        "outputId": "7a672974-fbec-457e-e9c9-c3c04311f1da",
        "colab": {
          "base_uri": "https://localhost:8080/",
          "height": 68
        }
      },
      "source": [
        "# Basic Stuff\n",
        "import numpy as np\n",
        "import pandas as pd\n",
        "from time import time, ctime\n",
        "import random\n",
        "\n",
        "# Basic Machine Learning Stuff\n",
        "from sklearn.linear_model import LogisticRegression\n",
        "from sklearn.naive_bayes import GaussianNB\n",
        "from sklearn.utils import resample\n",
        "from sklearn.model_selection import train_test_split\n",
        "import xgboost as xgb\n",
        "\n",
        "# NLP Stuff\n",
        "from gensim.models.keyedvectors import KeyedVectors\n",
        "from gensim.scripts.glove2word2vec import glove2word2vec\n",
        "import nltk\n",
        "from nltk.tokenize import sent_tokenize, word_tokenize\n",
        "nltk.download('punkt')\n",
        "\n",
        "# Deep Learning Stuff\n",
        "# import cv2\n",
        "# import torch\n",
        "# import torch.nn as nn\n",
        "# import torch.nn.functional as F\n",
        "# from torch.nn.parameter import Parameter\n",
        "# from torch.utils.data import Dataset, DataLoader\n",
        "\n",
        "# Visualization Stuff\n",
        "import matplotlib.pyplot as plt\n",
        "import seaborn as sns\n",
        "sns.set(style=\"darkgrid\")\n",
        "\n",
        "\n",
        "# Drive Stuff\n",
        "import urllib.request\n",
        "import zipfile\n",
        "import sys\n",
        "import os\n",
        "import pickle\n",
        "import gc\n",
        "from google.colab import drive\n",
        "drive.mount('/content/drive')"
      ],
      "execution_count": 8,
      "outputs": [
        {
          "output_type": "stream",
          "text": [
            "[nltk_data] Downloading package punkt to /root/nltk_data...\n",
            "[nltk_data]   Package punkt is already up-to-date!\n",
            "Drive already mounted at /content/drive; to attempt to forcibly remount, call drive.mount(\"/content/drive\", force_remount=True).\n"
          ],
          "name": "stdout"
        }
      ]
    },
    {
      "cell_type": "code",
      "metadata": {
        "id": "7qU0Az80mW94",
        "colab_type": "code",
        "colab": {}
      },
      "source": [
        "root = '/content/drive/My Drive/Colab Notebooks/Research/Quora'"
      ],
      "execution_count": 0,
      "outputs": []
    },
    {
      "cell_type": "markdown",
      "metadata": {
        "id": "raWEiB5Z189t",
        "colab_type": "text"
      },
      "source": [
        "#Data Loading"
      ]
    },
    {
      "cell_type": "markdown",
      "metadata": {
        "id": "LOH6-U4U2Equ",
        "colab_type": "text"
      },
      "source": [
        "##Prepare Files"
      ]
    },
    {
      "cell_type": "code",
      "metadata": {
        "id": "1VD6co3rPNQh",
        "colab_type": "code",
        "colab": {}
      },
      "source": [
        "def save_obj(obj, name ):\n",
        "    with open(root + '/obj/' + name + '.pkl', 'wb+') as f:\n",
        "        pickle.dump(obj, f, pickle.HIGHEST_PROTOCOL)\n",
        "\n",
        "def load_obj(name ):\n",
        "  if os.path.isfile(root + 'obj/' + name + '.pkl'):\n",
        "    with open(root + 'obj/' + name + '.pkl', 'rb') as f:\n",
        "          return pickle.load(f)"
      ],
      "execution_count": 0,
      "outputs": []
    },
    {
      "cell_type": "code",
      "metadata": {
        "id": "kDJtDzwu1__r",
        "colab_type": "code",
        "colab": {}
      },
      "source": [
        "if is_first_time:\n",
        "  root_dir = os.listdir(root)\n",
        "  root_dir"
      ],
      "execution_count": 0,
      "outputs": []
    },
    {
      "cell_type": "code",
      "metadata": {
        "id": "1Z0vaJpi2b9i",
        "colab_type": "code",
        "colab": {}
      },
      "source": [
        "if is_first_time:\n",
        "  for zip_file_name in root_dir:\n",
        "    with zipfile.ZipFile(root+'/'+zip_file_name, 'r') as zip_ref:\n",
        "      zip_ref.extractall(root)\n",
        "      zip_ref.close()\n",
        "    print('Extracted to: '+root)"
      ],
      "execution_count": 0,
      "outputs": []
    },
    {
      "cell_type": "code",
      "metadata": {
        "id": "cd5-WbcN3Ubv",
        "colab_type": "code",
        "colab": {}
      },
      "source": [
        "if is_first_time:\n",
        "  root_dir = os.listdir(root)\n",
        "  root_dir"
      ],
      "execution_count": 0,
      "outputs": []
    },
    {
      "cell_type": "code",
      "metadata": {
        "id": "uLPDN5PADV-P",
        "colab_type": "code",
        "colab": {}
      },
      "source": [
        "test_data = pd.read_csv(root+'/test.csv') \n",
        "sample_submission = pd.read_csv(root+'/sample_submission.csv') "
      ],
      "execution_count": 0,
      "outputs": []
    },
    {
      "cell_type": "markdown",
      "metadata": {
        "id": "3in4DJYUGmZ3",
        "colab_type": "text"
      },
      "source": [
        "###1. qid - unique question identifier\n",
        "###2. question_text - Quora question text\n",
        "###3. target - a question labeled \"insincere\" has a value of 1, otherwise 0"
      ]
    },
    {
      "cell_type": "code",
      "metadata": {
        "id": "E1ddoFI0iPAp",
        "colab_type": "code",
        "colab": {
          "base_uri": "https://localhost:8080/",
          "height": 362
        },
        "outputId": "75bb03a0-7797-4563-e58d-52b5006e7319"
      },
      "source": [
        "if not is_first_time:\n",
        "  train_data = pd.read_csv(root+'/train.csv') \n",
        "  train_data['question_length'] = train_data.apply(lambda x: len(word_tokenize(x['question_text'])),axis=1)\n",
        "  train_data.to_csv(root+'/train_data_with_length.csv')\n",
        "else:\n",
        "  train_data = pd.read_csv(root+'/train_data_with_length.csv') \n",
        "\n",
        "m = np.max(train_data['question_length'])\n",
        "max_sentence = train_data.iloc[train_data['question_length'].idxmax()]['question_text']\n",
        "avg = np.mean(train_data['question_length'])\n",
        "print(\"Longesst Sentence Length: \"+str(m))\n",
        "print(\"Average Sentence Length: \"+str(avg))\n",
        "print(\"Longesst Sentence: \"+str(max_sentence))\n",
        "train_data['question_length'].hist(bins=128)"
      ],
      "execution_count": 16,
      "outputs": [
        {
          "output_type": "stream",
          "text": [
            "Longesst Sentence Length: 412\n",
            "Average Sentence Length: 14.44675688794768\n",
            "Longesst Sentence: What is [math]\\frac{\\int_{1x^5}^{3x^{-5}} \\tan(\\tan({\\boxed{\\int_{1x^0}^{1x^2} \\sum_{\\varpi=1}^{\\infty} \\int_{2x^{-3}}^{2x^2} \\sum_{\\alpha=7}^{\\infty} \\underbrace{\\sqrt[2]{1x^5}}_{\\text{Gauss's Law of Theoretical Probability.}} d\\tau dx}}^{1x^0})) d\\mu}{\\int_{2x^{-3}}^{1x^5} \\cos(\\int_{2x^2}^{1x^{-3}} \\frac{\\sqrt[2]{\\overbrace{\\underbrace{\\frac{3x^3+3x^5}{\\sqrt[3]{2x^{-3}}}}_{\\text{Gauss's Law of Theoretical Probability.}} \\times \\overbrace{\\tan(2x^0)}^{\\text{Gauss's Law of Theoretical Probability.}}-\\sum_{4=7}^{\\infty} \\boxed{3x^{-5}}}^{\\text{Inverse Function.}}}}{{\\boxed{\\int_{2x^2}^{2x^4} 3x^1 d9} \\div \\sum_{6=6}^{\\infty} \\sqrt[3]{2x^2}+\\sqrt[4]{\\sin(2x^0+3x^0)}}^{2x^{-4}}+\\boxed{\\frac{\\vec{\\boxed{\\sum_{\\gamma=10}^{\\infty} 1x^{-5}}}}{\\frac{\\sum_{\\iota=2}^{\\infty} 1x^{-5}-\\frac{3x^{-1}}{1x^{-4}}}{\\sin(\\tan(3x^{-2}))}}}} \\times \\boxed{\\sqrt[2]{{{{\\sqrt[5]{2x^5}}^{2x^{-1}}}^{2x^{-1}} \\div \\sum_{\\chi=6}^{\\infty} \\int_{1x^4}^{2x^{-4}} 3x^2 d\\vartheta+{2x^{-3}}^{2x^{-5}}}^{3x^{-4}}}} d\\mu) d\\iota}[/math]?\n"
          ],
          "name": "stdout"
        },
        {
          "output_type": "execute_result",
          "data": {
            "text/plain": [
              "<matplotlib.axes._subplots.AxesSubplot at 0x7f6e7aea36a0>"
            ]
          },
          "metadata": {
            "tags": []
          },
          "execution_count": 16
        },
        {
          "output_type": "display_data",
          "data": {
            "image/png": "[encoded data removed]",
            "text/plain": [
              "<Figure size 432x288 with 1 Axes>"
            ]
          },
          "metadata": {
            "tags": []
          }
        }
      ]
    },
    {
      "cell_type": "code",
      "metadata": {
        "id": "kQOLyPo2GYto",
        "colab_type": "code",
        "outputId": "ddc8e92a-54ca-4b36-a9a1-3e4edf2e58b9",
        "colab": {
          "base_uri": "https://localhost:8080/",
          "height": 80
        }
      },
      "source": [
        "pd.set_option('max_colwidth', 128)\n",
        "train_data.head(1)"
      ],
      "execution_count": 17,
      "outputs": [
        {
          "output_type": "execute_result",
          "data": {
            "text/html": [
              "<div>\n",
              "<style scoped>\n",
              "    .dataframe tbody tr th:only-of-type {\n",
              "        vertical-align: middle;\n",
              "    }\n",
              "\n",
              "    .dataframe tbody tr th {\n",
              "        vertical-align: top;\n",
              "    }\n",
              "\n",
              "    .dataframe thead th {\n",
              "        text-align: right;\n",
              "    }\n",
              "</style>\n",
              "<table border=\"1\" class=\"dataframe\">\n",
              "  <thead>\n",
              "    <tr style=\"text-align: right;\">\n",
              "      <th></th>\n",
              "      <th>qid</th>\n",
              "      <th>question_text</th>\n",
              "      <th>target</th>\n",
              "      <th>question_length</th>\n",
              "    </tr>\n",
              "  </thead>\n",
              "  <tbody>\n",
              "    <tr>\n",
              "      <th>0</th>\n",
              "      <td>00002165364db923c7e6</td>\n",
              "      <td>How did Quebec nationalists see their province as a nation in the 1960s?</td>\n",
              "      <td>0</td>\n",
              "      <td>14</td>\n",
              "    </tr>\n",
              "  </tbody>\n",
              "</table>\n",
              "</div>"
            ],
            "text/plain": [
              "                    qid  ... question_length\n",
              "0  00002165364db923c7e6  ...              14\n",
              "\n",
              "[1 rows x 4 columns]"
            ]
          },
          "metadata": {
            "tags": []
          },
          "execution_count": 17
        }
      ]
    },
    {
      "cell_type": "code",
      "metadata": {
        "id": "NToYINNUtld4",
        "colab_type": "code",
        "colab": {
          "base_uri": "https://localhost:8080/",
          "height": 291
        },
        "outputId": "52db093b-492b-4b17-e8a7-5d6c9478bd04"
      },
      "source": [
        "train_data[train_data['question_length']<32]['question_length'].hist(bins=32)"
      ],
      "execution_count": 18,
      "outputs": [
        {
          "output_type": "execute_result",
          "data": {
            "text/plain": [
              "<matplotlib.axes._subplots.AxesSubplot at 0x7f6e8ac52198>"
            ]
          },
          "metadata": {
            "tags": []
          },
          "execution_count": 18
        },
        {
          "output_type": "display_data",
          "data": {
            "image/png": "[encoded data removed]",
            "text/plain": [
              "<Figure size 432x288 with 1 Axes>"
            ]
          },
          "metadata": {
            "tags": []
          }
        }
      ]
    },
    {
      "cell_type": "code",
      "metadata": {
        "id": "VgpSlVm6Gb7R",
        "colab_type": "code",
        "colab": {}
      },
      "source": [
        "pos_data = train_data[train_data['target']==1]\n",
        "neg_data = train_data[train_data['target']==0]"
      ],
      "execution_count": 0,
      "outputs": []
    },
    {
      "cell_type": "code",
      "metadata": {
        "id": "7uwU9oiBJZm5",
        "colab_type": "code",
        "outputId": "a86bf503-5497-49b9-bf37-bcaa7d7e9b17",
        "colab": {
          "base_uri": "https://localhost:8080/",
          "height": 85
        }
      },
      "source": [
        "print(\"There are total of \"+str(train_data.size)+\" samples\")\n",
        "print(\"There are \"+str(pos_data.size)+\" positive samples (insincere)\")\n",
        "print(\"There are \"+str(neg_data.size)+\" negative samples (sincere)\")\n",
        "print(\"Ratio is: %.3f\" % (pos_data.size/neg_data.size))"
      ],
      "execution_count": 20,
      "outputs": [
        {
          "output_type": "stream",
          "text": [
            "There are total of 5224488 samples\n",
            "There are 323240 positive samples (insincere)\n",
            "There are 4901248 negative samples (sincere)\n",
            "Ratio is: 0.066\n"
          ],
          "name": "stdout"
        }
      ]
    },
    {
      "cell_type": "code",
      "metadata": {
        "id": "gNYHZ2JFHzsU",
        "colab_type": "code",
        "outputId": "c7e49d9d-b26d-482e-8602-175e24ed2736",
        "colab": {
          "base_uri": "https://localhost:8080/",
          "height": 159
        }
      },
      "source": [
        "train_data_balanced = pd.concat([resample(neg_data,replace = False,n_samples = len(pos_data)), pos_data])\n",
        "print(\"There are total of \"+str(train_data_balanced.size)+\" samples\")\n",
        "train_data_balanced.head(3)"
      ],
      "execution_count": 21,
      "outputs": [
        {
          "output_type": "stream",
          "text": [
            "There are total of 646480 samples\n"
          ],
          "name": "stdout"
        },
        {
          "output_type": "execute_result",
          "data": {
            "text/html": [
              "<div>\n",
              "<style scoped>\n",
              "    .dataframe tbody tr th:only-of-type {\n",
              "        vertical-align: middle;\n",
              "    }\n",
              "\n",
              "    .dataframe tbody tr th {\n",
              "        vertical-align: top;\n",
              "    }\n",
              "\n",
              "    .dataframe thead th {\n",
              "        text-align: right;\n",
              "    }\n",
              "</style>\n",
              "<table border=\"1\" class=\"dataframe\">\n",
              "  <thead>\n",
              "    <tr style=\"text-align: right;\">\n",
              "      <th></th>\n",
              "      <th>qid</th>\n",
              "      <th>question_text</th>\n",
              "      <th>target</th>\n",
              "      <th>question_length</th>\n",
              "    </tr>\n",
              "  </thead>\n",
              "  <tbody>\n",
              "    <tr>\n",
              "      <th>1173452</th>\n",
              "      <td>e5f504e064c1c956f33b</td>\n",
              "      <td>Where is the best course available for Python?</td>\n",
              "      <td>0</td>\n",
              "      <td>9</td>\n",
              "    </tr>\n",
              "    <tr>\n",
              "      <th>551798</th>\n",
              "      <td>6c1ba1c2588cb9bc04a1</td>\n",
              "      <td>Do you think it is fair to classify climate change denial as a conspiracy theory?</td>\n",
              "      <td>0</td>\n",
              "      <td>16</td>\n",
              "    </tr>\n",
              "    <tr>\n",
              "      <th>321927</th>\n",
              "      <td>3f16e72f2fe65efca357</td>\n",
              "      <td>Should I choose CS at JSS or it at knit. plz help me to choose?</td>\n",
              "      <td>0</td>\n",
              "      <td>17</td>\n",
              "    </tr>\n",
              "  </tbody>\n",
              "</table>\n",
              "</div>"
            ],
            "text/plain": [
              "                          qid  ... question_length\n",
              "1173452  e5f504e064c1c956f33b  ...               9\n",
              "551798   6c1ba1c2588cb9bc04a1  ...              16\n",
              "321927   3f16e72f2fe65efca357  ...              17\n",
              "\n",
              "[3 rows x 4 columns]"
            ]
          },
          "metadata": {
            "tags": []
          },
          "execution_count": 21
        }
      ]
    },
    {
      "cell_type": "markdown",
      "metadata": {
        "id": "nUmdyeTOmniZ",
        "colab_type": "text"
      },
      "source": [
        "## Embeddings"
      ]
    },
    {
      "cell_type": "markdown",
      "metadata": {
        "id": "jecYUN7p7Vgx",
        "colab_type": "text"
      },
      "source": [
        "###Challenges:\n",
        "1. Sentences are in different lengths\n",
        "2. Sequence order does matter"
      ]
    },
    {
      "cell_type": "code",
      "metadata": {
        "id": "fwM18XM_p_vo",
        "colab_type": "code",
        "outputId": "93ce0963-3bab-4636-e64f-e0d60c084269",
        "colab": {
          "base_uri": "https://localhost:8080/",
          "height": 71
        }
      },
      "source": [
        "# glove2word2vec(glove_input_file=root+'/glove.840B.300d/glove.840B.300d.txt', word2vec_output_file=root+\"/gensim_glove_vectors.txt\")    \n",
        "glove_model = KeyedVectors.load_word2vec_format(root+\"/gensim_glove_vectors.txt\", binary=False)"
      ],
      "execution_count": 21,
      "outputs": [
        {
          "output_type": "stream",
          "text": [
            "/usr/local/lib/python3.6/dist-packages/smart_open/smart_open_lib.py:398: UserWarning: This function is deprecated, use smart_open.open instead. See the migration notes for details: https://github.com/RaRe-Technologies/smart_open/blob/master/README.rst#migrating-to-the-new-open-function\n",
            "  'See the migration notes for details: %s' % _MIGRATION_NOTES_URL\n"
          ],
          "name": "stderr"
        }
      ]
    },
    {
      "cell_type": "code",
      "metadata": {
        "id": "MPpoX-inzgpj",
        "colab_type": "code",
        "outputId": "00ab0ae3-0a98-447d-f81d-0dc1132e0a2e",
        "colab": {
          "base_uri": "https://localhost:8080/",
          "height": 34
        }
      },
      "source": [
        "glove_model[\"Hello\"].shape"
      ],
      "execution_count": 22,
      "outputs": [
        {
          "output_type": "execute_result",
          "data": {
            "text/plain": [
              "(300,)"
            ]
          },
          "metadata": {
            "tags": []
          },
          "execution_count": 22
        }
      ]
    },
    {
      "cell_type": "code",
      "metadata": {
        "id": "QNXPKq1Z3dKU",
        "colab_type": "code",
        "colab": {
          "base_uri": "https://localhost:8080/",
          "height": 34
        },
        "outputId": "a6af1bbe-8cff-414a-a3eb-73221189192e"
      },
      "source": [
        "X,y = train_data_balanced.iloc[:,:2],train_data_balanced.iloc[:,2]\n",
        "X_train, X_test, y_train, y_test = train_test_split(X, y, test_size=0.20, random_state=42)\n",
        "number_of_samples = 50000\n",
        "updated_train_data_resampled = pd.concat([X_train, y_train],axis=1)\n",
        "train_data_balanced_resampled = resample(updated_train_data_resampled,replace = False,n_samples = number_of_samples)\n",
        "X_train_resampled, y_train_resampled = train_data_balanced_resampled.iloc[:,:2],train_data_balanced_resampled.iloc[:,2]\n",
        "chosen_question_length = 32\n",
        "word_vector_size = 300\n",
        "X_train_resampled.shape"
      ],
      "execution_count": 46,
      "outputs": [
        {
          "output_type": "execute_result",
          "data": {
            "text/plain": [
              "(50000, 2)"
            ]
          },
          "metadata": {
            "tags": []
          },
          "execution_count": 46
        }
      ]
    },
    {
      "cell_type": "code",
      "metadata": {
        "id": "vg4_nLQoLr5x",
        "colab_type": "code",
        "colab": {}
      },
      "source": [
        "def vectorize(X,chosen_question_length,word_vector_size):\n",
        "  X_vectorized = np.empty((X.shape[0],chosen_question_length,word_vector_size))\n",
        "  for i in range(X.shape[0]):\n",
        "    current_sentence = word_tokenize(X.iloc[i]['question_text'])\n",
        "    for j in range(chosen_question_length):\n",
        "      if j<len(current_sentence) and current_sentence[j] in glove_model:\n",
        "        X_vectorized[i,j] = glove_model[current_sentence[j]]\n",
        "      else:\n",
        "        X_vectorized[i,j] = np.zeros((300,))\n",
        "    if i % 10000 ==0:\n",
        "      print(i,end =\"-\")\n",
        "  return X_vectorized"
      ],
      "execution_count": 0,
      "outputs": []
    },
    {
      "cell_type": "code",
      "metadata": {
        "id": "YUe1eqb5kBk1",
        "colab_type": "code",
        "colab": {
          "base_uri": "https://localhost:8080/",
          "height": 34
        },
        "outputId": "2d3b63b5-aa0c-4ddd-ad46-2543827f3b7b"
      },
      "source": [
        "if not is_first_time:\n",
        "  X_train_resampled = vectorize(X_train_resampled,chosen_question_length,word_vector_size)\n",
        "  save_obj(X_train_resampled, 'X_train_resampled')\n",
        "else:\n",
        "  X_train_resampled = load_obj('X_train_resampled')\n",
        "X_train_resampled.shape\n",
        "X_test = vectorize(X_test,chosen_question_length,word_vector_size)"
      ],
      "execution_count": 48,
      "outputs": [
        {
          "output_type": "stream",
          "text": [
            "->->->->->->->->->"
          ],
          "name": "stdout"
        }
      ]
    },
    {
      "cell_type": "code",
      "metadata": {
        "id": "IJ-MuF4ly2Q2",
        "colab_type": "code",
        "colab": {}
      },
      "source": [
        "nsamples, nx, ny = X_train_resampled.shape\n",
        "X_train_resampled_2d = X_train_resampled.reshape((nsamples,nx*ny))\n",
        "del X_train_resampled"
      ],
      "execution_count": 0,
      "outputs": []
    },
    {
      "cell_type": "code",
      "metadata": {
        "id": "VwsWVR-2XfIw",
        "colab_type": "code",
        "colab": {
          "base_uri": "https://localhost:8080/",
          "height": 34
        },
        "outputId": "b13a2d3a-ac75-4296-aa5c-716a7a8dabad"
      },
      "source": [
        "X_train_resampled_2d.shape"
      ],
      "execution_count": 50,
      "outputs": [
        {
          "output_type": "execute_result",
          "data": {
            "text/plain": [
              "(50000, 9600)"
            ]
          },
          "metadata": {
            "tags": []
          },
          "execution_count": 50
        }
      ]
    },
    {
      "cell_type": "code",
      "metadata": {
        "id": "m4SGXJheKTHQ",
        "colab_type": "code",
        "colab": {
          "base_uri": "https://localhost:8080/",
          "height": 156
        },
        "outputId": "7994a285-f1a2-47dd-bfa7-51671f51391b"
      },
      "source": [
        "if is_first_time:\n",
        "  clf = LogisticRegression(random_state=0, solver='lbfgs', multi_class='multinomial').fit(X_train_resampled_2d, y_train_resampled)\n",
        "  save_obj(clf, 'LR' )\n",
        "else:\n",
        "  clf = load_obj('LR')\n",
        "print(clf)\n",
        "# gnb = GaussianNB().fit(X_train_resampled_2d, y)\n",
        "# save_obj(gnb, 'GNB' )"
      ],
      "execution_count": 51,
      "outputs": [
        {
          "output_type": "stream",
          "text": [
            "LogisticRegression(C=1.0, class_weight=None, dual=False, fit_intercept=True,\n",
            "                   intercept_scaling=1, l1_ratio=None, max_iter=100,\n",
            "                   multi_class='multinomial', n_jobs=None, penalty='l2',\n",
            "                   random_state=0, solver='lbfgs', tol=0.0001, verbose=0,\n",
            "                   warm_start=False)\n"
          ],
          "name": "stdout"
        },
        {
          "output_type": "stream",
          "text": [
            "/usr/local/lib/python3.6/dist-packages/sklearn/linear_model/logistic.py:947: ConvergenceWarning: lbfgs failed to converge. Increase the number of iterations.\n",
            "  \"of iterations.\", ConvergenceWarning)\n"
          ],
          "name": "stderr"
        }
      ]
    },
    {
      "cell_type": "code",
      "metadata": {
        "id": "OWcbqaMZFsnp",
        "colab_type": "code",
        "colab": {
          "base_uri": "https://localhost:8080/",
          "height": 34
        },
        "outputId": "0f2cf931-cdc0-40a3-8138-821ec71300e3"
      },
      "source": [
        "if not is_first_time:\n",
        "  gnb = GaussianNB().fit(X_train_resampled_2d, y_train_resampled)\n",
        "  save_obj(gnb, 'GNB' )\n",
        "else:\n",
        "  gnb = load_obj('GNB')\n",
        "print(gnb)"
      ],
      "execution_count": 59,
      "outputs": [
        {
          "output_type": "stream",
          "text": [
            "GaussianNB(priors=None, var_smoothing=1e-09)\n"
          ],
          "name": "stdout"
        }
      ]
    },
    {
      "cell_type": "code",
      "metadata": {
        "id": "f3EE6igvLcQh",
        "colab_type": "code",
        "colab": {}
      },
      "source": [
        "if not is_first_time:\n",
        "  gbm = xgb.XGBClassifier(max_depth=3, n_estimators=300, learning_rate=0.05).fit(X_train_resampled_2d, y_train_resampled)\n",
        "  save_obj(gbm, 'GBM' )\n",
        "else:\n",
        "  gbm = load_obj('GBM')\n",
        "print(gbm)"
      ],
      "execution_count": 0,
      "outputs": []
    },
    {
      "cell_type": "code",
      "metadata": {
        "id": "h0uC2ToDDJ-o",
        "colab_type": "code",
        "colab": {}
      },
      "source": [
        "nsamples, nx, ny = X_test.shape\n",
        "X_test_2d = X_test.reshape((nsamples,nx*ny))\n",
        "del X_test"
      ],
      "execution_count": 0,
      "outputs": []
    },
    {
      "cell_type": "code",
      "metadata": {
        "id": "V0fQUqe7lV4s",
        "colab_type": "code",
        "colab": {
          "base_uri": "https://localhost:8080/",
          "height": 34
        },
        "outputId": "38be9f0a-f381-4bbb-cad3-d076f1274779"
      },
      "source": [
        "print('Gaussian Naive Baise Score: ', gnb.score(X_test_2d, y_test))"
      ],
      "execution_count": 60,
      "outputs": [
        {
          "output_type": "stream",
          "text": [
            "Gaussian Naive Baise Score:  0.6176215814874396\n"
          ],
          "name": "stdout"
        }
      ]
    },
    {
      "cell_type": "code",
      "metadata": {
        "id": "MauxoAL0IBbg",
        "colab_type": "code",
        "colab": {}
      },
      "source": [
        "print('Logistic Regression Score: ', clf.score(X_test_2d, y_test))"
      ],
      "execution_count": 0,
      "outputs": []
    },
    {
      "cell_type": "code",
      "metadata": {
        "id": "iK94a1RTLy6D",
        "colab_type": "code",
        "colab": {
          "base_uri": "https://localhost:8080/",
          "height": 164
        },
        "outputId": "596aa381-5cd2-4cc2-f9e7-88f50bdccc22"
      },
      "source": [
        "print('XGBoost Score: ', gbm.score(X_test_2d, y_test))"
      ],
      "execution_count": 1,
      "outputs": [
        {
          "output_type": "error",
          "ename": "NameError",
          "evalue": "ignored",
          "traceback": [
            "\u001b[0;31m---------------------------------------------------------------------------\u001b[0m",
            "\u001b[0;31mNameError\u001b[0m                                 Traceback (most recent call last)",
            "\u001b[0;32m<ipython-input-1-23ac549b88c7>\u001b[0m in \u001b[0;36m<module>\u001b[0;34m()\u001b[0m\n\u001b[0;32m----> 1\u001b[0;31m \u001b[0mprint\u001b[0m\u001b[0;34m(\u001b[0m\u001b[0;34m'XGBoost Score: '\u001b[0m\u001b[0;34m,\u001b[0m \u001b[0mgbm\u001b[0m\u001b[0;34m.\u001b[0m\u001b[0mscore\u001b[0m\u001b[0;34m(\u001b[0m\u001b[0mX_test_2d\u001b[0m\u001b[0;34m,\u001b[0m \u001b[0my_test\u001b[0m\u001b[0;34m)\u001b[0m\u001b[0;34m)\u001b[0m\u001b[0;34m\u001b[0m\u001b[0;34m\u001b[0m\u001b[0m\n\u001b[0m",
            "\u001b[0;31mNameError\u001b[0m: name 'gbm' is not defined"
          ]
        }
      ]
    },
    {
      "cell_type": "code",
      "metadata": {
        "id": "UgcomhLuF5YS",
        "colab_type": "code",
        "colab": {}
      },
      "source": [
        "def predict(clf,sentnce):\n",
        "  X_vectorized = np.empty((1,chosen_question_length,word_vector_size))\n",
        "  current_sentence = word_tokenize(sentnce)\n",
        "  for j in range(chosen_question_length):\n",
        "    if j<len(current_sentence) and current_sentence[j] in glove_model:\n",
        "      X_vectorized[0,j] = glove_model[current_sentence[j]]\n",
        "    else:\n",
        "      X_vectorized[0,j] = np.zeros((300,))\n",
        "  return clf.predict(X_vectorized.reshape(1,chosen_question_length*word_vector_size))"
      ],
      "execution_count": 0,
      "outputs": []
    },
    {
      "cell_type": "code",
      "metadata": {
        "id": "Nd4MX2r0dgYb",
        "colab_type": "code",
        "colab": {
          "base_uri": "https://localhost:8080/",
          "height": 102
        },
        "outputId": "75f8d3ec-a11d-402c-ca96-1d1f04f92052"
      },
      "source": [
        "lets_have_fun = [\"What is wrong with fat ass?\",\"What is love?\",\"What is wrong with fat milk?\",\"Do Arabs eat humus?\",\"Do aliens exist?\"]\n",
        "\n",
        "for s in lets_have_fun:\n",
        "  result = predict(clf,s)\n",
        "  print(s+'\\t is '+ ('insincere' if predict(clf,s)[0] else 'sincere'))"
      ],
      "execution_count": 57,
      "outputs": [
        {
          "output_type": "stream",
          "text": [
            "What is wrong with fat ass?\t is insincere\n",
            "What is love?\t is sincere\n",
            "What is wrong with fat milk?\t is insincere\n",
            "Do Arabs eat humus?\t is insincere\n",
            "Do aliens exist?\t is sincere\n"
          ],
          "name": "stdout"
        }
      ]
    },
    {
      "cell_type": "code",
      "metadata": {
        "id": "aJ-bV_v6dpUj",
        "colab_type": "code",
        "colab": {}
      },
      "source": [
        ""
      ],
      "execution_count": 0,
      "outputs": []
    }
  ]
}